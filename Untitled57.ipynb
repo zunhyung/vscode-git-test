{
  "nbformat": 4,
  "nbformat_minor": 0,
  "metadata": {
    "colab": {
      "provenance": []
    },
    "kernelspec": {
      "name": "python3",
      "display_name": "Python 3"
    },
    "language_info": {
      "name": "python"
    }
  },
  "cells": [
    {
      "cell_type": "code",
      "execution_count": 1,
      "metadata": {
        "colab": {
          "base_uri": "https://localhost:8080/"
        },
        "id": "FFbdZXz3o-Ot",
        "outputId": "8abe4cc2-6dc4-42ef-e609-f008fa275e73"
      },
      "outputs": [
        {
          "output_type": "stream",
          "name": "stdout",
          "text": [
            "59000000\n"
          ]
        }
      ],
      "source": [
        "# \"./sales.txt\" 파일을 읽고 데이터를 저장\n",
        "with open(\"./sales.txt\", 'r', encoding='utf-8') as file:\n",
        "    data = file.read()\n",
        "\n",
        "# 데이터를 줄 바꿈 문자(\"\\n\")를 기준으로 분할하고 필터링하고 정수로 변환\n",
        "data_lines = data.split(\"\\n\")\n",
        "data = [int(line[9:]) for line in data_lines if line]\n",
        "\n",
        "# 데이터의 합계를 계산\n",
        "data_sum = sum(data)\n",
        "\n",
        "# 결과를 \"sum.txt\" 파일에 저장\n",
        "with open(\"./sum.txt\", 'w', encoding='utf-8') as file:\n",
        "    file.write(f\"총 매출 = {str(data_sum)}\\n일일 평균매출 = {str(data_sum/30)}\")\n",
        "\n",
        "print(data_sum)"
      ]
    }
  ]
}